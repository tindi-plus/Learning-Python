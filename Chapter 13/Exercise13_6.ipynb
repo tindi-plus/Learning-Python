{
 "cells": [
  {
   "cell_type": "code",
   "execution_count": 1,
   "metadata": {},
   "outputs": [],
   "source": [
    "import tweepy\n",
    "import keys\n",
    "\n",
    "#authenticate with Twitter and create an api\n",
    "auth = tweepy.OAuthHandler(keys.consumer_key, keys.consumer_secret)\n",
    "auth.set_access_token(keys.access_token, keys.access_token_secret)\n",
    "\n",
    "api = tweepy.API(auth, wait_on_rate_limit=True, wait_on_rate_limit_notify=True)"
   ]
  },
  {
   "cell_type": "code",
   "execution_count": 3,
   "metadata": {},
   "outputs": [],
   "source": [
    "happy_tweets = api.search(q='liverpool:)', count=10)"
   ]
  },
  {
   "cell_type": "code",
   "execution_count": 4,
   "metadata": {},
   "outputs": [],
   "source": [
    "from textblob import TextBlob"
   ]
  },
  {
   "cell_type": "code",
   "execution_count": 6,
   "metadata": {},
   "outputs": [
    {
     "name": "stdout",
     "output_type": "stream",
     "text": [
      "RT @Legacy_Revival: Even as a Liverpool fan I have huge respect for Man United fans here. This isn't a protest just for their club. This is…\n",
      "Sentiment(polarity=0.4000000000000001, subjectivity=0.9) \n",
      "\n",
      "RT @iambolar: Manchester United face an FA investigation following the fan protests which caused their game against Liverpool to be postpon…\n",
      "Sentiment(polarity=-0.2, subjectivity=0.25) \n",
      "\n",
      "How do Liverpool fans think they even have a chance of getting sancho\n",
      "Sentiment(polarity=0.0, subjectivity=0.0) \n",
      "\n",
      "RT @EmptySeatsPics: \"Pre-pandemic, [Man United] boasted the largest average attendance in the Premier League... and therein lies the contra…\n",
      "Sentiment(polarity=-0.15, subjectivity=0.39999999999999997) \n",
      "\n",
      "@IbrahimaKonate_ @lfcalexx6 air me if youre coming to Liverpool\n",
      "Sentiment(polarity=0.0, subjectivity=0.0) \n",
      "\n",
      "great episode.  especially part where Jermain Jennas is called complete moron. 😀👍\n",
      "OLD TRAFFORD PROTESTS | Mancheste… https://t.co/21Ea4hnFQ4\n",
      "Sentiment(polarity=0.039999999999999994, subjectivity=0.67) \n",
      "\n",
      "RT @Legacy_Revival: Even as a Liverpool fan I have huge respect for Man United fans here. This isn't a protest just for their club. This is…\n",
      "Sentiment(polarity=0.4000000000000001, subjectivity=0.9) \n",
      "\n",
      "@IbrahimaKonate_ On your way to Liverpool I'd say 😅\n",
      "Sentiment(polarity=0.0, subjectivity=0.0) \n",
      "\n",
      "The event was organised as part of the British government's trial to start having events with crowds again.\n",
      "\n",
      "https://t.co/bsY9byJbc8\n",
      "Sentiment(polarity=0.0, subjectivity=0.0) \n",
      "\n",
      "RT @BackseatsmanLFC: No, he just represents United fans. He didn't represent Valencia fans when he left their club in disarray, he didn't r…\n",
      "Sentiment(polarity=0.0, subjectivity=0.0) \n",
      "\n"
     ]
    }
   ],
   "source": [
    "for tweet in happy_tweets:\n",
    "    print(tweet.text, end='\\n')\n",
    "    print(f'{TextBlob(tweet.text).sentiment} \\n')"
   ]
  },
  {
   "cell_type": "code",
   "execution_count": 15,
   "metadata": {},
   "outputs": [],
   "source": [
    "happy_tweets = api.search(q='liverpool :)', count=10)"
   ]
  },
  {
   "cell_type": "code",
   "execution_count": 16,
   "metadata": {},
   "outputs": [
    {
     "name": "stdout",
     "output_type": "stream",
     "text": [
      "@crossinghols Yes hii! Born in Liverpool, live in Glasgow :)\n",
      "Sentiment(polarity=0.3181818181818182, subjectivity=0.75) \n",
      "\n",
      "RT @StephenGormley3: @EwanMacKenna Everyone has a right to protest once it is not violent. I just think Liverpool should be given the three…\n",
      "Sentiment(polarity=0.34285714285714286, subjectivity=0.7678571428571428) \n",
      "\n",
      "i honestly thought they were protesting how bad the ref's have been to  #liverpool this year. i was screaming \"this is it\" !!! :)\n",
      "Sentiment(polarity=0.033333333333333326, subjectivity=0.8555555555555555) \n",
      "\n",
      "RT @isabellajourno: University of Liverpool Students who went through an access scheme please send me a message :) #journorequest\n",
      "Sentiment(polarity=0.5, subjectivity=1.0) \n",
      "\n",
      "Why everything should be that complicated!! : ))\n",
      "Sentiment(polarity=-0.140625, subjectivity=1.0) \n",
      "\n",
      "@BartekWitczak_ @HockeySpieler68 No LAC - Nets to jakby w finale LM grał Liverpool z Barceloną, dwa razy rzyg i naj… https://t.co/yEAx68HoVn\n",
      "Sentiment(polarity=0.0, subjectivity=0.0) \n",
      "\n",
      "After Sunday's Live Gig in Liverpool is Live music back? lets really hope so :-)))) Eric Hobson Photography https://t.co/2rn5immgr9\n",
      "Sentiment(polarity=0.19454545454545452, subjectivity=0.44000000000000006) \n",
      "\n",
      "@k_magnussen95 I Liverpool :)\n",
      "Sentiment(polarity=0.5, subjectivity=1.0) \n",
      "\n",
      "@TheReds_Indo @yuyaazarya_ gak mungkin. liverpool bukan anak emas, ditambah lawannya anak emas :)\n",
      "Sentiment(polarity=0.5, subjectivity=1.0) \n",
      "\n",
      "Liverpool'da çıkan haftalık İslam gazetesi \"The Crescent\"da (el-Hilal) yayınlanan İzmirli bir \"yemiş tüccarı\"nın re… https://t.co/iHkWMIN4vW\n",
      "Sentiment(polarity=0.0, subjectivity=0.0) \n",
      "\n"
     ]
    }
   ],
   "source": [
    "for tweet in happy_tweets:\n",
    "    print(tweet.text, end='\\n')\n",
    "    print(f'{TextBlob(tweet.text).sentiment} \\n')"
   ]
  },
  {
   "cell_type": "code",
   "execution_count": 18,
   "metadata": {},
   "outputs": [],
   "source": [
    "unhappy_tweets = api.search(q='liverpool :(', count=10)"
   ]
  },
  {
   "cell_type": "code",
   "execution_count": 19,
   "metadata": {},
   "outputs": [
    {
     "name": "stdout",
     "output_type": "stream",
     "text": [
      "Dengan ditunda atau tidaknya match MU vs liverpool kemaren, saya sebagai fans MU udah yakin kok city pasti juara. K… https://t.co/gBo9hLhP7F\n",
      "Sentiment(polarity=0.0, subjectivity=0.0) \n",
      "\n",
      "Gara2 MU vs Liverpool di tunda, FPL gua jadi ancur 4 pemain kagak maen anjirr :(\n",
      "Sentiment(polarity=-0.75, subjectivity=1.0) \n",
      "\n",
      "@M0Xmh @MarieAnnUK @BrexitBin @brexit_sham @TheNewEuropean @SloughForEU @Cornwall4EU @16MillionRising… https://t.co/8qdUzaTjhw\n",
      "Sentiment(polarity=0.0, subjectivity=0.0) \n",
      "\n",
      "@BetaKopites_ Astagfirullah gini amat nasib Liverpool :( terima kasih bet infonya\n",
      "Sentiment(polarity=-0.75, subjectivity=1.0) \n",
      "\n",
      "i miss liverpool so bad :((\n",
      "Sentiment(polarity=-0.7249999999999999, subjectivity=0.8333333333333333) \n",
      "\n",
      "What happened to Manchester united:( \n",
      ".\n",
      "Comeback to primitif day? \n",
      ".\n",
      "https://t.co/br3nfBMZKl\n",
      " .\n",
      ":((\n",
      "#MUNLIV \n",
      "Messi\n",
      "Ronaldo\n",
      "Liverpool\n",
      "Sentiment(polarity=-0.75, subjectivity=1.0) \n",
      "\n",
      "@kaitlanjade Yep yep yep :( it’s going to show nothing. It’s the fact that people see this and think ‘if they’re do… https://t.co/2R5AMyt0pU\n",
      "Sentiment(polarity=-0.75, subjectivity=1.0) \n",
      "\n",
      "@treceswife then u find out she supports liverpool :(\n",
      "Sentiment(polarity=-0.75, subjectivity=1.0) \n",
      "\n",
      "RT @aldyannn: @MafiaWasit Ini gak ada yang coret coret plat nomor kendaraan Liverpool :(\n",
      "Sentiment(polarity=-0.75, subjectivity=1.0) \n",
      "\n",
      "Liverpool krisis bek tp cuma bisa datengin bek pinjaman sm beli bek dr liga 2 lho... :(\n",
      "Sentiment(polarity=-0.75, subjectivity=1.0) \n",
      "\n"
     ]
    }
   ],
   "source": [
    "for tweet in unhappy_tweets:\n",
    "    print(tweet.text, end='\\n')\n",
    "    print(f'{TextBlob(tweet.text).sentiment} \\n')"
   ]
  },
  {
   "cell_type": "code",
   "execution_count": null,
   "metadata": {},
   "outputs": [],
   "source": []
  }
 ],
 "metadata": {
  "kernelspec": {
   "display_name": "Python 3",
   "language": "python",
   "name": "python3"
  },
  "language_info": {
   "codemirror_mode": {
    "name": "ipython",
    "version": 3
   },
   "file_extension": ".py",
   "mimetype": "text/x-python",
   "name": "python",
   "nbconvert_exporter": "python",
   "pygments_lexer": "ipython3",
   "version": "3.8.5"
  },
  "widgets": {
   "application/vnd.jupyter.widget-state+json": {
    "state": {},
    "version_major": 2,
    "version_minor": 0
   }
  }
 },
 "nbformat": 4,
 "nbformat_minor": 4
}
