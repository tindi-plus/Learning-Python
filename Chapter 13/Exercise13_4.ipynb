{
 "cells": [
  {
   "cell_type": "code",
   "execution_count": 1,
   "metadata": {},
   "outputs": [],
   "source": [
    "import tweepy\n",
    "import keys\n",
    "\n",
    "#authenticate with Twitter and create an api\n",
    "auth = tweepy.OAuthHandler(keys.consumer_key, keys.consumer_secret)\n",
    "auth.set_access_token(keys.access_token, keys.access_token_secret)\n",
    "\n",
    "api = tweepy.API(auth, wait_on_rate_limit=True, wait_on_rate_limit_notify=True)\n"
   ]
  },
  {
   "cell_type": "code",
   "execution_count": 2,
   "metadata": {},
   "outputs": [],
   "source": [
    "elon = api.get_user('elonmusk')"
   ]
  },
  {
   "cell_type": "code",
   "execution_count": 3,
   "metadata": {},
   "outputs": [
    {
     "name": "stdout",
     "output_type": "stream",
     "text": [
      "ID: 44196397\n",
      "Name: Elon Musk\n",
      "Screen Name: elonmusk\n",
      "Description: Technoking of Tesla, Imperator of Mars 😉\n"
     ]
    }
   ],
   "source": [
    "print(f'ID: {elon.id_str}')\n",
    "print(f'Name: {elon.name}')\n",
    "print(f'Screen Name: {elon.screen_name}')\n",
    "print(f'Description: {elon.description}')"
   ]
  },
  {
   "cell_type": "code",
   "execution_count": 8,
   "metadata": {},
   "outputs": [],
   "source": [
    "timeline = api.user_timeline(screen_name='elonmusk', count=10)"
   ]
  },
  {
   "cell_type": "code",
   "execution_count": 9,
   "metadata": {},
   "outputs": [
    {
     "name": "stdout",
     "output_type": "stream",
     "text": [
      "@spacex360 So great to see the happy faces!\n",
      "@utsavtechie Prototypes are easy, production is hard\n",
      "@heydave7 @Tesla A remarkable junction in history\n",
      "@jaentwistle One of many reasons why we need larger &amp; more advanced rockets!\n",
      "@jpr007 @EPCalderhead Haha\n",
      "RT @SpaceX: Splashdown of Dragon confirmed – welcome back to Earth, @AstroVicGlover, @Astro_illini, Shannon Walker, and @Astro_Soichi! http…\n",
      "I love Art Deco\n",
      "RT @SpaceX: Departure burns complete. Dragon will reenter the Earth's atmosphere in ~4 hours\n",
      "@RSTYCG 👍\n",
      "RT @NASA: LIVE: NASA's @SpaceX Crew-1 astronauts are strapped in for their journey home tonight. Watch the hatches close between Crew Drago…\n"
     ]
    }
   ],
   "source": [
    "for tweet in timeline:\n",
    "    print(tweet.text)"
   ]
  },
  {
   "cell_type": "code",
   "execution_count": null,
   "metadata": {},
   "outputs": [],
   "source": []
  }
 ],
 "metadata": {
  "kernelspec": {
   "display_name": "Python 3",
   "language": "python",
   "name": "python3"
  },
  "language_info": {
   "codemirror_mode": {
    "name": "ipython",
    "version": 3
   },
   "file_extension": ".py",
   "mimetype": "text/x-python",
   "name": "python",
   "nbconvert_exporter": "python",
   "pygments_lexer": "ipython3",
   "version": "3.8.5"
  },
  "widgets": {
   "application/vnd.jupyter.widget-state+json": {
    "state": {},
    "version_major": 2,
    "version_minor": 0
   }
  }
 },
 "nbformat": 4,
 "nbformat_minor": 4
}
