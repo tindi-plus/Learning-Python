{
 "cells": [
  {
   "cell_type": "code",
   "execution_count": 1,
   "metadata": {},
   "outputs": [],
   "source": [
    "import tweepy\n",
    "import keys\n",
    "\n",
    "#authenticate with Twitter and create an api\n",
    "auth = tweepy.OAuthHandler(keys.consumer_key, keys.consumer_secret)\n",
    "auth.set_access_token(keys.access_token, keys.access_token_secret)\n",
    "\n",
    "api = tweepy.API(auth, wait_on_rate_limit=True, wait_on_rate_limit_notify=True)\n"
   ]
  },
  {
   "cell_type": "code",
   "execution_count": 2,
   "metadata": {},
   "outputs": [],
   "source": [
    "trends = api.trends_available()"
   ]
  },
  {
   "cell_type": "code",
   "execution_count": 3,
   "metadata": {},
   "outputs": [
    {
     "data": {
      "text/plain": [
       "{'name': 'Birmingham',\n",
       " 'placeType': {'code': 7, 'name': 'Town'},\n",
       " 'url': 'http://where.yahooapis.com/v1/place/12723',\n",
       " 'parentid': 23424975,\n",
       " 'country': 'United Kingdom',\n",
       " 'woeid': 12723,\n",
       " 'countryCode': 'GB'}"
      ]
     },
     "execution_count": 3,
     "metadata": {},
     "output_type": "execute_result"
    }
   ],
   "source": [
    "trends[9]"
   ]
  },
  {
   "cell_type": "code",
   "execution_count": 4,
   "metadata": {},
   "outputs": [],
   "source": [
    "trends_Bir = api.trends_place(id=12723)"
   ]
  },
  {
   "cell_type": "code",
   "execution_count": 5,
   "metadata": {},
   "outputs": [],
   "source": [
    "trends_list = trends_Bir[0]['trends']\n",
    "    "
   ]
  },
  {
   "cell_type": "code",
   "execution_count": 7,
   "metadata": {},
   "outputs": [
    {
     "name": "stdout",
     "output_type": "stream",
     "text": [
      "#tippingpoint\n",
      "Albion\n",
      "Wolves\n",
      "Traore\n",
      "namjoon\n",
      "Shaun Bailey\n",
      "West Brom\n",
      "#YTFC\n",
      "#StNMHDay\n",
      "Julian Assange\n",
      "Masks\n",
      "UNITE\n",
      "#WBAWOL\n",
      "Hartlepool\n",
      "Marvel\n",
      "Otasowie\n",
      "Ajayi\n",
      "WILBUR\n",
      "Vitinha\n",
      "Neves\n",
      "buy confetti remix on itunes\n",
      "Fantastic Four\n",
      "Fantastic 4\n",
      "Eternals\n",
      "Black Panther\n",
      "Phase 4\n",
      "Hitchen\n",
      "Wakanda Forever\n",
      "jungkook\n",
      "Happisburgh\n",
      "Concord\n",
      "Prince Harry\n",
      "Canelo\n",
      "Loughborough\n",
      "Saiss\n",
      "Stan Lee\n",
      "Moonraker\n",
      "Angelina Jolie\n",
      "Black Widow\n",
      "Richard Madden\n",
      "mingyu\n",
      "Blade\n",
      "The Good Place\n",
      "Selby\n",
      "Bicester\n",
      "Hebburn\n",
      "Yahoo\n",
      "Christianity\n",
      "Koran\n"
     ]
    }
   ],
   "source": [
    "for trend in trends_list:\n",
    "    print(trend['name'])"
   ]
  },
  {
   "cell_type": "code",
   "execution_count": null,
   "metadata": {},
   "outputs": [],
   "source": []
  }
 ],
 "metadata": {
  "kernelspec": {
   "display_name": "Python 3",
   "language": "python",
   "name": "python3"
  },
  "language_info": {
   "codemirror_mode": {
    "name": "ipython",
    "version": 3
   },
   "file_extension": ".py",
   "mimetype": "text/x-python",
   "name": "python",
   "nbconvert_exporter": "python",
   "pygments_lexer": "ipython3",
   "version": "3.8.5"
  },
  "widgets": {
   "application/vnd.jupyter.widget-state+json": {
    "state": {},
    "version_major": 2,
    "version_minor": 0
   }
  }
 },
 "nbformat": 4,
 "nbformat_minor": 4
}
