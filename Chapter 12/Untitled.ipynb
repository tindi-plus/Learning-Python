{
 "cells": [
  {
   "cell_type": "markdown",
   "metadata": {},
   "source": []
  },
  {
   "cell_type": "code",
   "execution_count": null,
   "metadata": {},
   "outputs": [
    {
     "name": "stdout",
     "output_type": "stream",
     "text": [
      "Input the code for the language you want to learn: 'es'\n"
     ]
    }
   ],
   "source": [
    "# -*- coding: utf-8 -*-\n",
    "\"\"\"\n",
    "Created on Mon Apr 19 14:50:50 2021.\n",
    "\n",
    "Creating text to speech and speech to text\n",
    "\n",
    "@author: Tindi.Sommers\n",
    "\"\"\"\n",
    "import speech_recognition as sr\n",
    "import pyttsx3\n",
    "from textblob import TextBlob\n",
    "from gtts import  gTTS\n",
    "import os\n",
    "\n",
    "# initialize the recognizer\n",
    "r = sr.Recognizer()\n",
    "\n",
    "def speak_en(command):\n",
    "    \"\"\"Convert text to speech\"\"\"\n",
    "    # initialize the pyttsx3 engine\n",
    "    engine = pyttsx3.init()\n",
    "    engine.say(command)\n",
    "    engine.runAndWait()\n",
    "\n",
    "def speak_lan(text, lan):\n",
    "    \"\"\"Speak a given text in a given laguage using Google Speech to text\"\"\"\n",
    "    tts = gTTS(text, lang=lan)\n",
    "    # save the audio file\n",
    "    tts.save('audio.mp3')\n",
    "    os.system('start audio.mp3')\n",
    "    \n",
    "# get the language the user wants to learn\n",
    "language = input('Input the code for the language you want to learn: ')\n",
    "\n",
    "# welcome the user\n",
    "welcome = 'You are welcome to this session. If you want to exit the session, say please exit.'\n",
    "speak_en(welcome)\n",
    "# keep looping as long as the program is running\n",
    "while True:\n",
    "    try:\n",
    "        # use the microphone as a source of input\n",
    "        with sr.Microphone() as source:\n",
    "            # wait for a second to let the recognizer\n",
    "            # adjust the energy threshold based on\n",
    "            # the surrounding noise level \n",
    "            r.adjust_for_ambient_noise(source, duration=0.5)\n",
    "            \n",
    "            # listen to the user input\n",
    "            audio = r.listen(source)\n",
    "            \n",
    "            # translate the speech to text using Google\n",
    "            text = r.recognize_google(audio)\n",
    "            \n",
    "            # convert the text to lower case text\n",
    "            text = text.lower()\n",
    "            print(text, end='\\n')\n",
    "            \n",
    "            if text == 'please exit':\n",
    "                break\n",
    "            \n",
    "            # translate the text to the choosen language\n",
    "            blob = TextBlob(text)\n",
    "            translated = blob.translate(to=language)\n",
    "            \n",
    "            # print the translated text\n",
    "            print(translated, end='\\n')\n",
    "\n",
    "            speak_lan(str(translated), language)\n",
    "            \n",
    "    \n",
    "    except sr.RequestError as e:\n",
    "        print(f'Could not request results: {e}')\n",
    "    except sr.UnknownValueError:\n",
    "        print('An Unknown error occured')\n",
    "\n",
    "\n",
    "            \n",
    "    "
   ]
  },
  {
   "cell_type": "code",
   "execution_count": null,
   "metadata": {},
   "outputs": [],
   "source": []
  },
  {
   "cell_type": "code",
   "execution_count": null,
   "metadata": {},
   "outputs": [],
   "source": []
  },
  {
   "cell_type": "code",
   "execution_count": null,
   "metadata": {},
   "outputs": [],
   "source": []
  }
 ],
 "metadata": {
  "kernelspec": {
   "display_name": "Python 3",
   "language": "python",
   "name": "python3"
  },
  "language_info": {
   "codemirror_mode": {
    "name": "ipython",
    "version": 3
   },
   "file_extension": ".py",
   "mimetype": "text/x-python",
   "name": "python",
   "nbconvert_exporter": "python",
   "pygments_lexer": "ipython3",
   "version": "3.8.5"
  }
 },
 "nbformat": 4,
 "nbformat_minor": 4
}
