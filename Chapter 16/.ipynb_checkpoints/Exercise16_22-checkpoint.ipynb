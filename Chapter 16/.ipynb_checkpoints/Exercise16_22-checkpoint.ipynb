{
 "cells": [
  {
   "cell_type": "code",
   "execution_count": 1,
   "id": "35b7a5af-9f0f-4cb0-9c8f-0c31997e27c9",
   "metadata": {},
   "outputs": [],
   "source": [
    "from emnist import extract_training_samples, extract_test_samples"
   ]
  },
  {
   "cell_type": "code",
   "execution_count": 2,
   "id": "e2f28528-0f99-4a73-8dce-c339e7eb2682",
   "metadata": {},
   "outputs": [],
   "source": [
    "X_train, y_train = extract_training_samples('digits')"
   ]
  },
  {
   "cell_type": "code",
   "execution_count": 3,
   "id": "e6b527f9-66c3-417d-ae12-18b9e0f331b3",
   "metadata": {},
   "outputs": [],
   "source": [
    "X_test, y_test = extract_test_samples('digits')"
   ]
  },
  {
   "cell_type": "code",
   "execution_count": 4,
   "id": "8233df35-cb77-4244-9715-395e9c2b5680",
   "metadata": {},
   "outputs": [],
   "source": [
    "X_train = X_train.reshape(240000, 28, 28, 1)"
   ]
  },
  {
   "cell_type": "code",
   "execution_count": 5,
   "id": "a931e483-2a8b-4d4c-afda-0c714ac03693",
   "metadata": {},
   "outputs": [],
   "source": [
    "X_train = X_train.astype('float32') / 255"
   ]
  },
  {
   "cell_type": "code",
   "execution_count": 6,
   "id": "94ba00d2-9f40-4038-aa20-ec3ec46f6579",
   "metadata": {},
   "outputs": [
    {
     "data": {
      "text/plain": [
       "(40000, 28, 28)"
      ]
     },
     "execution_count": 6,
     "metadata": {},
     "output_type": "execute_result"
    }
   ],
   "source": [
    "X_test.shape"
   ]
  },
  {
   "cell_type": "code",
   "execution_count": 7,
   "id": "28a44167-db3e-4228-942a-b8de549dbcb6",
   "metadata": {},
   "outputs": [],
   "source": [
    "X_test = X_test.reshape(40000, 28, 28, 1)"
   ]
  },
  {
   "cell_type": "code",
   "execution_count": 8,
   "id": "7eb033d6-2f51-4366-9aa5-ba51c4295fd5",
   "metadata": {},
   "outputs": [],
   "source": [
    "X_test = X_test.astype('float32') / 255"
   ]
  },
  {
   "cell_type": "code",
   "execution_count": 9,
   "id": "84e34ab3-bc7e-4b56-b4b8-d501da448c5e",
   "metadata": {},
   "outputs": [],
   "source": [
    "from tensorflow.keras.utils import to_categorical"
   ]
  },
  {
   "cell_type": "code",
   "execution_count": 10,
   "id": "ed4dbe9f-badc-4169-b440-acc2e230fe0c",
   "metadata": {},
   "outputs": [],
   "source": [
    "y_train = to_categorical(y_train)\n",
    "y_test = to_categorical(y_test)"
   ]
  },
  {
   "cell_type": "code",
   "execution_count": 11,
   "id": "acfe4f37-a2ef-4fa2-b2c1-bd2cc0bc01a7",
   "metadata": {},
   "outputs": [
    {
     "data": {
      "text/plain": [
       "(240000, 10)"
      ]
     },
     "execution_count": 11,
     "metadata": {},
     "output_type": "execute_result"
    }
   ],
   "source": [
    "y_train.shape"
   ]
  },
  {
   "cell_type": "code",
   "execution_count": 12,
   "id": "2c5496a1-7d71-432f-b2ff-2dc8ca9be63f",
   "metadata": {},
   "outputs": [],
   "source": [
    "from tensorflow.keras.models import load_model"
   ]
  },
  {
   "cell_type": "code",
   "execution_count": 13,
   "id": "4cc04f27-8ad9-4401-874c-7c79869faf0b",
   "metadata": {},
   "outputs": [],
   "source": [
    "cnn = load_model('mnist_cnn.h5')"
   ]
  },
  {
   "cell_type": "code",
   "execution_count": 14,
   "id": "ea6ba605-58c1-4bdb-bf2c-4b70bb474ec5",
   "metadata": {},
   "outputs": [
    {
     "name": "stdout",
     "output_type": "stream",
     "text": [
      "Epoch 1/5\n",
      "3375/3375 [==============================] - 475s 141ms/step - loss: 0.0346 - accuracy: 0.9900 - val_loss: 0.0308 - val_accuracy: 0.9902\n",
      "Epoch 2/5\n",
      "3375/3375 [==============================] - 498s 148ms/step - loss: 0.0188 - accuracy: 0.9945 - val_loss: 0.0239 - val_accuracy: 0.9930\n",
      "Epoch 3/5\n",
      "3375/3375 [==============================] - 504s 149ms/step - loss: 0.0133 - accuracy: 0.9962 - val_loss: 0.0261 - val_accuracy: 0.9930\n",
      "Epoch 4/5\n",
      "3375/3375 [==============================] - 485s 144ms/step - loss: 0.0103 - accuracy: 0.9969 - val_loss: 0.0273 - val_accuracy: 0.9937\n",
      "Epoch 5/5\n",
      "3375/3375 [==============================] - 644s 191ms/step - loss: 0.0077 - accuracy: 0.9976 - val_loss: 0.0312 - val_accuracy: 0.9933\n"
     ]
    },
    {
     "data": {
      "text/plain": [
       "<tensorflow.python.keras.callbacks.History at 0x1b105f90e20>"
      ]
     },
     "execution_count": 14,
     "metadata": {},
     "output_type": "execute_result"
    }
   ],
   "source": [
    "cnn.fit(X_train, y_train, epochs=5, batch_size=64, validation_split=0.1)"
   ]
  },
  {
   "cell_type": "code",
   "execution_count": 15,
   "id": "bb345bbe-973a-4576-9415-b2292ee04a72",
   "metadata": {},
   "outputs": [
    {
     "name": "stdout",
     "output_type": "stream",
     "text": [
      "1250/1250 [==============================] - 35s 28ms/step - loss: 0.0275 - accuracy: 0.9942\n"
     ]
    }
   ],
   "source": [
    "loss, accuracy = cnn.evaluate(X_test, y_test)"
   ]
  },
  {
   "cell_type": "code",
   "execution_count": null,
   "id": "d32fe175-4c5d-44c0-9c02-aef392079eba",
   "metadata": {},
   "outputs": [],
   "source": []
  }
 ],
 "metadata": {
  "kernelspec": {
   "display_name": "Python 3",
   "language": "python",
   "name": "python3"
  },
  "language_info": {
   "codemirror_mode": {
    "name": "ipython",
    "version": 3
   },
   "file_extension": ".py",
   "mimetype": "text/x-python",
   "name": "python",
   "nbconvert_exporter": "python",
   "pygments_lexer": "ipython3",
   "version": "3.8.10"
  }
 },
 "nbformat": 4,
 "nbformat_minor": 5
}
